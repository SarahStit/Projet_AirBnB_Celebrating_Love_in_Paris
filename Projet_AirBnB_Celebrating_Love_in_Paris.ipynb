{
 "cells": [
  {
   "cell_type": "markdown",
   "metadata": {
    "colab_type": "text",
    "id": "V4YQBoUEJ9ro"
   },
   "source": [
    "# *Un couple de toursite souhaite trouver un logement à Paris pendant deux jours pour célébrer ses noces d'argent (25 années de mariage).*\n",
    "\n",
    "*Quel type de logement veut-il louer ?*\n",
    "\n",
    "- Logement entier\n",
    "- 2 voyageurs\n",
    "- 1 chambre\n",
    "- 1 lits\n",
    "- 1 salle de bain\n",
    "\n",
    "\n",
    "*Quels sont ses critères ?*\n",
    "\n",
    "- Un logement de qualité situé dans les beaux quartiers de Paris\n",
    "- Un logement spacieux 50 m² min\n",
    "- Un logement pour deux personnes\n",
    "- Un logement disponible pour la date d'anniversaire de leur mariage\n",
    "- Dans un budget de 1000 euros pour les deux jours\n",
    "- Dans quel quartier le couple veut-il se loger ?\n",
    "\n",
    "Paris hyper centre (en prenant en compte budget et surface)\n",
    "A quelle date est prévue l'hébergement ? Arrivée le 15 mars"
   ]
  },
  {
   "cell_type": "markdown",
   "metadata": {},
   "source": [
    "# Projet AirBnB: Celebrating Love in Paris"
   ]
  },
  {
   "cell_type": "code",
   "execution_count": 4,
   "metadata": {
    "colab": {
     "base_uri": "https://localhost:8080/",
     "height": 122
    },
    "colab_type": "code",
    "id": "8Dy9_rctJ9rp",
    "outputId": "717fc4fa-56c3-479c-eb09-a3bf665b2e9a"
   },
   "outputs": [
    {
     "ename": "ModuleNotFoundError",
     "evalue": "No module named 'google'",
     "output_type": "error",
     "traceback": [
      "\u001b[0;31m---------------------------------------------------------------------------\u001b[0m",
      "\u001b[0;31mModuleNotFoundError\u001b[0m                       Traceback (most recent call last)",
      "\u001b[0;32m<ipython-input-4-d5df0069828e>\u001b[0m in \u001b[0;36m<module>\u001b[0;34m\u001b[0m\n\u001b[0;32m----> 1\u001b[0;31m \u001b[0;32mfrom\u001b[0m \u001b[0mgoogle\u001b[0m\u001b[0;34m.\u001b[0m\u001b[0mcolab\u001b[0m \u001b[0;32mimport\u001b[0m \u001b[0mdrive\u001b[0m\u001b[0;34m\u001b[0m\u001b[0;34m\u001b[0m\u001b[0m\n\u001b[0m\u001b[1;32m      2\u001b[0m \u001b[0mdrive\u001b[0m\u001b[0;34m.\u001b[0m\u001b[0mmount\u001b[0m\u001b[0;34m(\u001b[0m\u001b[0;34m'/content/drive'\u001b[0m\u001b[0;34m)\u001b[0m\u001b[0;34m\u001b[0m\u001b[0;34m\u001b[0m\u001b[0m\n",
      "\u001b[0;31mModuleNotFoundError\u001b[0m: No module named 'google'"
     ]
    }
   ],
   "source": [
    "from google.colab import drive\n",
    "drive.mount('/content/drive')"
   ]
  },
  {
   "cell_type": "code",
   "execution_count": 5,
   "metadata": {
    "colab": {
     "base_uri": "https://localhost:8080/",
     "height": 51
    },
    "colab_type": "code",
    "id": "7yPO_OuEJ9rt",
    "outputId": "e8bc7184-67eb-40d2-8527-5f5525e92966"
   },
   "outputs": [
    {
     "name": "stdout",
     "output_type": "stream",
     "text": [
      "ls: /content/drive/My Drive/data: No such file or directory\r\n"
     ]
    }
   ],
   "source": [
    "ls \"/content/drive/My Drive/data\""
   ]
  },
  {
   "cell_type": "markdown",
   "metadata": {
    "colab_type": "text",
    "id": "yKBttYAEKyUD"
   },
   "source": [
    "# ***Installation des librairies***"
   ]
  },
  {
   "cell_type": "code",
   "execution_count": 6,
   "metadata": {
    "colab": {
     "base_uri": "https://localhost:8080/",
     "height": 547
    },
    "colab_type": "code",
    "id": "mxzj31NaJ9rz",
    "outputId": "a26e93ce-685a-4837-829e-1192bd4e1063"
   },
   "outputs": [
    {
     "name": "stdout",
     "output_type": "stream",
     "text": [
      "Collecting geopandas\n",
      "\u001b[?25l  Downloading https://files.pythonhosted.org/packages/5b/0c/e6c99e561b03482220f00443f610ccf4dce9b50f4b1093d735f93c6fc8c6/geopandas-0.6.2-py2.py3-none-any.whl (919kB)\n",
      "\u001b[K     |████████████████████████████████| 921kB 260kB/s eta 0:00:01\n",
      "\u001b[?25hCollecting pyproj (from geopandas)\n",
      "\u001b[?25l  Downloading https://files.pythonhosted.org/packages/81/40/5e9c75b1b08fc5f91fb9f68afacd15144296a6cd58a8b3b0a8a23a56f181/pyproj-2.4.2.post1-cp37-cp37m-macosx_10_6_intel.whl (13.4MB)\n",
      "\u001b[K     |████████████████████████████████| 13.4MB 93kB/s eta 0:00:011    |█████████████                   | 5.4MB 134kB/s eta 0:01:00     |███████████████▉                | 6.6MB 195kB/s eta 0:00:35\n",
      "\u001b[?25hRequirement already satisfied: pandas>=0.23.0 in /Users/sarahstit/opt/anaconda3/lib/python3.7/site-packages (from geopandas) (0.25.1)\n",
      "Collecting fiona (from geopandas)\n",
      "\u001b[?25l  Downloading https://files.pythonhosted.org/packages/b2/9a/3cb5728fca91a642fdb1107dcb30c97ecffe25c841a7a4cfece680fd802a/Fiona-1.8.13-cp37-cp37m-macosx_10_6_intel.whl (17.9MB)\n",
      "\u001b[K     |████████████████████████████████| 17.9MB 93kB/s eta 0:00:012\n",
      "\u001b[?25hCollecting shapely (from geopandas)\n",
      "  Using cached https://files.pythonhosted.org/packages/1e/32/9d1cbfdc94864282be7745a7f7679ca16beb12ec5d71efd12a3f6cc0690a/Shapely-1.6.4.post2-cp37-cp37m-macosx_10_9_x86_64.whl\n",
      "Requirement already satisfied: pytz>=2017.2 in /Users/sarahstit/opt/anaconda3/lib/python3.7/site-packages (from pandas>=0.23.0->geopandas) (2019.3)\n",
      "Requirement already satisfied: numpy>=1.13.3 in /Users/sarahstit/opt/anaconda3/lib/python3.7/site-packages (from pandas>=0.23.0->geopandas) (1.17.2)\n",
      "Requirement already satisfied: python-dateutil>=2.6.1 in /Users/sarahstit/opt/anaconda3/lib/python3.7/site-packages (from pandas>=0.23.0->geopandas) (2.8.0)\n",
      "Collecting munch (from fiona->geopandas)\n",
      "  Downloading https://files.pythonhosted.org/packages/cc/ab/85d8da5c9a45e072301beb37ad7f833cd344e04c817d97e0cc75681d248f/munch-2.5.0-py2.py3-none-any.whl\n",
      "Collecting cligj>=0.5 (from fiona->geopandas)\n",
      "  Using cached https://files.pythonhosted.org/packages/e4/be/30a58b4b0733850280d01f8bd132591b4668ed5c7046761098d665ac2174/cligj-0.5.0-py3-none-any.whl\n",
      "Requirement already satisfied: click<8,>=4.0 in /Users/sarahstit/opt/anaconda3/lib/python3.7/site-packages (from fiona->geopandas) (7.0)\n",
      "Requirement already satisfied: attrs>=17 in /Users/sarahstit/opt/anaconda3/lib/python3.7/site-packages (from fiona->geopandas) (19.2.0)\n",
      "Requirement already satisfied: six>=1.7 in /Users/sarahstit/opt/anaconda3/lib/python3.7/site-packages (from fiona->geopandas) (1.12.0)\n",
      "Collecting click-plugins>=1.0 (from fiona->geopandas)\n",
      "  Using cached https://files.pythonhosted.org/packages/e9/da/824b92d9942f4e472702488857914bdd50f73021efea15b4cad9aca8ecef/click_plugins-1.1.1-py2.py3-none-any.whl\n",
      "Installing collected packages: pyproj, munch, cligj, click-plugins, fiona, shapely, geopandas\n",
      "Successfully installed click-plugins-1.1.1 cligj-0.5.0 fiona-1.8.13 geopandas-0.6.2 munch-2.5.0 pyproj-2.4.2.post1 shapely-1.6.4.post2\n",
      "Note: you may need to restart the kernel to use updated packages.\n"
     ]
    }
   ],
   "source": [
    "pip install geopandas"
   ]
  },
  {
   "cell_type": "code",
   "execution_count": 7,
   "metadata": {
    "colab": {
     "base_uri": "https://localhost:8080/",
     "height": 204
    },
    "colab_type": "code",
    "id": "F3eKUd_8J9r4",
    "outputId": "0fb65ccc-20d1-4f51-b179-cb2d480f7587"
   },
   "outputs": [
    {
     "name": "stdout",
     "output_type": "stream",
     "text": [
      "Requirement already satisfied: folium in /Users/sarahstit/opt/anaconda3/lib/python3.7/site-packages (0.10.0)\n",
      "Requirement already satisfied: branca>=0.3.0 in /Users/sarahstit/opt/anaconda3/lib/python3.7/site-packages (from folium) (0.3.1)\n",
      "Requirement already satisfied: jinja2>=2.9 in /Users/sarahstit/opt/anaconda3/lib/python3.7/site-packages (from folium) (2.10.3)\n",
      "Requirement already satisfied: requests in /Users/sarahstit/opt/anaconda3/lib/python3.7/site-packages (from folium) (2.22.0)\n",
      "Requirement already satisfied: numpy in /Users/sarahstit/opt/anaconda3/lib/python3.7/site-packages (from folium) (1.17.2)\n",
      "Requirement already satisfied: six in /Users/sarahstit/opt/anaconda3/lib/python3.7/site-packages (from branca>=0.3.0->folium) (1.12.0)\n",
      "Requirement already satisfied: MarkupSafe>=0.23 in /Users/sarahstit/opt/anaconda3/lib/python3.7/site-packages (from jinja2>=2.9->folium) (1.1.1)\n",
      "Requirement already satisfied: urllib3!=1.25.0,!=1.25.1,<1.26,>=1.21.1 in /Users/sarahstit/opt/anaconda3/lib/python3.7/site-packages (from requests->folium) (1.24.2)\n",
      "Requirement already satisfied: idna<2.9,>=2.5 in /Users/sarahstit/opt/anaconda3/lib/python3.7/site-packages (from requests->folium) (2.8)\n",
      "Requirement already satisfied: certifi>=2017.4.17 in /Users/sarahstit/opt/anaconda3/lib/python3.7/site-packages (from requests->folium) (2019.9.11)\n",
      "Requirement already satisfied: chardet<3.1.0,>=3.0.2 in /Users/sarahstit/opt/anaconda3/lib/python3.7/site-packages (from requests->folium) (3.0.4)\n",
      "Note: you may need to restart the kernel to use updated packages.\n"
     ]
    }
   ],
   "source": [
    "pip install folium"
   ]
  },
  {
   "cell_type": "code",
   "execution_count": 8,
   "metadata": {
    "colab": {
     "base_uri": "https://localhost:8080/",
     "height": 442
    },
    "colab_type": "code",
    "id": "8b7TdKHiJ9r7",
    "outputId": "5e691e7b-414b-4a12-f62c-58adeeb0443f"
   },
   "outputs": [
    {
     "name": "stdout",
     "output_type": "stream",
     "text": [
      "Collecting smopy\n",
      "  Downloading https://files.pythonhosted.org/packages/45/dd/af12d0d32a4ca467da7da85584681a2badb33f57dbc6e5999ca5138711c3/smopy-0.0.7-py3-none-any.whl\n",
      "Requirement already satisfied: six in /Users/sarahstit/opt/anaconda3/lib/python3.7/site-packages (from smopy) (1.12.0)\n",
      "Requirement already satisfied: matplotlib in /Users/sarahstit/opt/anaconda3/lib/python3.7/site-packages (from smopy) (3.1.1)\n",
      "Requirement already satisfied: numpy in /Users/sarahstit/opt/anaconda3/lib/python3.7/site-packages (from smopy) (1.17.2)\n",
      "Requirement already satisfied: ipython in /Users/sarahstit/opt/anaconda3/lib/python3.7/site-packages (from smopy) (7.8.0)\n",
      "Requirement already satisfied: pillow in /Users/sarahstit/opt/anaconda3/lib/python3.7/site-packages (from smopy) (6.2.0)\n",
      "Requirement already satisfied: cycler>=0.10 in /Users/sarahstit/opt/anaconda3/lib/python3.7/site-packages (from matplotlib->smopy) (0.10.0)\n",
      "Requirement already satisfied: kiwisolver>=1.0.1 in /Users/sarahstit/opt/anaconda3/lib/python3.7/site-packages (from matplotlib->smopy) (1.1.0)\n",
      "Requirement already satisfied: pyparsing!=2.0.4,!=2.1.2,!=2.1.6,>=2.0.1 in /Users/sarahstit/opt/anaconda3/lib/python3.7/site-packages (from matplotlib->smopy) (2.4.2)\n",
      "Requirement already satisfied: python-dateutil>=2.1 in /Users/sarahstit/opt/anaconda3/lib/python3.7/site-packages (from matplotlib->smopy) (2.8.0)\n",
      "Requirement already satisfied: pickleshare in /Users/sarahstit/opt/anaconda3/lib/python3.7/site-packages (from ipython->smopy) (0.7.5)\n",
      "Requirement already satisfied: prompt-toolkit<2.1.0,>=2.0.0 in /Users/sarahstit/opt/anaconda3/lib/python3.7/site-packages (from ipython->smopy) (2.0.10)\n",
      "Requirement already satisfied: decorator in /Users/sarahstit/opt/anaconda3/lib/python3.7/site-packages (from ipython->smopy) (4.4.0)\n",
      "Requirement already satisfied: traitlets>=4.2 in /Users/sarahstit/opt/anaconda3/lib/python3.7/site-packages (from ipython->smopy) (4.3.3)\n",
      "Requirement already satisfied: pygments in /Users/sarahstit/opt/anaconda3/lib/python3.7/site-packages (from ipython->smopy) (2.4.2)\n",
      "Requirement already satisfied: jedi>=0.10 in /Users/sarahstit/opt/anaconda3/lib/python3.7/site-packages (from ipython->smopy) (0.15.1)\n",
      "Requirement already satisfied: pexpect; sys_platform != \"win32\" in /Users/sarahstit/opt/anaconda3/lib/python3.7/site-packages (from ipython->smopy) (4.7.0)\n",
      "Requirement already satisfied: setuptools>=18.5 in /Users/sarahstit/opt/anaconda3/lib/python3.7/site-packages (from ipython->smopy) (41.4.0)\n",
      "Requirement already satisfied: backcall in /Users/sarahstit/opt/anaconda3/lib/python3.7/site-packages (from ipython->smopy) (0.1.0)\n",
      "Requirement already satisfied: appnope; sys_platform == \"darwin\" in /Users/sarahstit/opt/anaconda3/lib/python3.7/site-packages (from ipython->smopy) (0.1.0)\n",
      "Requirement already satisfied: wcwidth in /Users/sarahstit/opt/anaconda3/lib/python3.7/site-packages (from prompt-toolkit<2.1.0,>=2.0.0->ipython->smopy) (0.1.7)\n",
      "Requirement already satisfied: ipython-genutils in /Users/sarahstit/opt/anaconda3/lib/python3.7/site-packages (from traitlets>=4.2->ipython->smopy) (0.2.0)\n",
      "Requirement already satisfied: parso>=0.5.0 in /Users/sarahstit/opt/anaconda3/lib/python3.7/site-packages (from jedi>=0.10->ipython->smopy) (0.5.1)\n",
      "Requirement already satisfied: ptyprocess>=0.5 in /Users/sarahstit/opt/anaconda3/lib/python3.7/site-packages (from pexpect; sys_platform != \"win32\"->ipython->smopy) (0.6.0)\n",
      "Installing collected packages: smopy\n",
      "Successfully installed smopy-0.0.7\n",
      "Note: you may need to restart the kernel to use updated packages.\n"
     ]
    }
   ],
   "source": [
    "pip install smopy"
   ]
  },
  {
   "cell_type": "code",
   "execution_count": 9,
   "metadata": {
    "colab": {
     "base_uri": "https://localhost:8080/",
     "height": 272
    },
    "colab_type": "code",
    "id": "EujkabIYJ9r-",
    "outputId": "031ae20f-6959-4cb5-a23a-bcc871e778a5"
   },
   "outputs": [
    {
     "name": "stdout",
     "output_type": "stream",
     "text": [
      "Collecting plotly\n",
      "\u001b[?25l  Downloading https://files.pythonhosted.org/packages/8e/ce/6ea5683c47b682bffad39ad41d10913141b560b1b875a90dbc6abe3f4fa9/plotly-4.4.1-py2.py3-none-any.whl (7.3MB)\n",
      "\u001b[K     |████████████████████████████████| 7.3MB 90kB/s eta 0:00:012\n",
      "\u001b[?25hCollecting retrying>=1.3.3 (from plotly)\n",
      "Requirement already satisfied: six in /Users/sarahstit/opt/anaconda3/lib/python3.7/site-packages (from plotly) (1.12.0)\n",
      "Installing collected packages: retrying, plotly\n",
      "Successfully installed plotly-4.4.1 retrying-1.3.3\n",
      "Note: you may need to restart the kernel to use updated packages.\n"
     ]
    }
   ],
   "source": [
    "pip install plotly"
   ]
  },
  {
   "cell_type": "markdown",
   "metadata": {
    "colab_type": "text",
    "id": "AVHQyB1cLAoq"
   },
   "source": [
    "# ***Importation des librairies***"
   ]
  },
  {
   "cell_type": "code",
   "execution_count": 10,
   "metadata": {
    "colab": {
     "base_uri": "https://localhost:8080/",
     "height": 17
    },
    "colab_type": "code",
    "id": "EtrWHj5vJ9sB",
    "outputId": "7e03b3ab-df64-410c-ab4c-470ea0b432d7"
   },
   "outputs": [
    {
     "ename": "ImportError",
     "evalue": "\nThe plotly.plotly module is deprecated,\nplease install the chart-studio package and use the\nchart_studio.plotly module instead. \n",
     "output_type": "error",
     "traceback": [
      "\u001b[0;31m---------------------------------------------------------------------------\u001b[0m",
      "\u001b[0;31mImportError\u001b[0m                               Traceback (most recent call last)",
      "\u001b[0;32m<ipython-input-10-5bf0df798619>\u001b[0m in \u001b[0;36m<module>\u001b[0;34m\u001b[0m\n\u001b[1;32m     27\u001b[0m \u001b[0;31m#to make the plotly graphs\u001b[0m\u001b[0;34m\u001b[0m\u001b[0;34m\u001b[0m\u001b[0;34m\u001b[0m\u001b[0m\n\u001b[1;32m     28\u001b[0m \u001b[0;32mimport\u001b[0m \u001b[0mplotly\u001b[0m\u001b[0;34m.\u001b[0m\u001b[0mgraph_objs\u001b[0m \u001b[0;32mas\u001b[0m \u001b[0mgo\u001b[0m\u001b[0;34m\u001b[0m\u001b[0;34m\u001b[0m\u001b[0m\n\u001b[0;32m---> 29\u001b[0;31m \u001b[0;32mimport\u001b[0m \u001b[0mplotly\u001b[0m\u001b[0;34m.\u001b[0m\u001b[0mplotly\u001b[0m \u001b[0;32mas\u001b[0m \u001b[0mpy\u001b[0m\u001b[0;34m\u001b[0m\u001b[0;34m\u001b[0m\u001b[0m\n\u001b[0m\u001b[1;32m     30\u001b[0m \u001b[0;32mfrom\u001b[0m \u001b[0mplotly\u001b[0m\u001b[0;34m.\u001b[0m\u001b[0moffline\u001b[0m \u001b[0;32mimport\u001b[0m \u001b[0miplot\u001b[0m\u001b[0;34m,\u001b[0m \u001b[0minit_notebook_mode\u001b[0m\u001b[0;34m\u001b[0m\u001b[0;34m\u001b[0m\u001b[0m\n\u001b[1;32m     31\u001b[0m \u001b[0;31m# import cufflinks\u001b[0m\u001b[0;34m\u001b[0m\u001b[0;34m\u001b[0m\u001b[0;34m\u001b[0m\u001b[0m\n",
      "\u001b[0;32m~/opt/anaconda3/lib/python3.7/site-packages/plotly/plotly/__init__.py\u001b[0m in \u001b[0;36m<module>\u001b[0;34m\u001b[0m\n\u001b[1;32m      2\u001b[0m \u001b[0;32mfrom\u001b[0m \u001b[0m_plotly_future_\u001b[0m \u001b[0;32mimport\u001b[0m \u001b[0m_chart_studio_error\u001b[0m\u001b[0;34m\u001b[0m\u001b[0;34m\u001b[0m\u001b[0m\n\u001b[1;32m      3\u001b[0m \u001b[0;34m\u001b[0m\u001b[0m\n\u001b[0;32m----> 4\u001b[0;31m \u001b[0m_chart_studio_error\u001b[0m\u001b[0;34m(\u001b[0m\u001b[0;34m\"plotly\"\u001b[0m\u001b[0;34m)\u001b[0m\u001b[0;34m\u001b[0m\u001b[0;34m\u001b[0m\u001b[0m\n\u001b[0m",
      "\u001b[0;32m~/opt/anaconda3/lib/python3.7/site-packages/_plotly_future_/__init__.py\u001b[0m in \u001b[0;36m_chart_studio_error\u001b[0;34m(submodule)\u001b[0m\n\u001b[1;32m     47\u001b[0m \u001b[0mchart_studio\u001b[0m\u001b[0;34m.\u001b[0m\u001b[0;34m{\u001b[0m\u001b[0msubmodule\u001b[0m\u001b[0;34m}\u001b[0m \u001b[0mmodule\u001b[0m \u001b[0minstead\u001b[0m\u001b[0;34m.\u001b[0m\u001b[0;34m\u001b[0m\u001b[0;34m\u001b[0m\u001b[0m\n\u001b[1;32m     48\u001b[0m \"\"\".format(\n\u001b[0;32m---> 49\u001b[0;31m             \u001b[0msubmodule\u001b[0m\u001b[0;34m=\u001b[0m\u001b[0msubmodule\u001b[0m\u001b[0;34m\u001b[0m\u001b[0;34m\u001b[0m\u001b[0m\n\u001b[0m\u001b[1;32m     50\u001b[0m         )\n\u001b[1;32m     51\u001b[0m     )\n",
      "\u001b[0;31mImportError\u001b[0m: \nThe plotly.plotly module is deprecated,\nplease install the chart-studio package and use the\nchart_studio.plotly module instead. \n"
     ]
    }
   ],
   "source": [
    "#les imports\n",
    "\n",
    "import numpy as np\n",
    "import pandas as pd\n",
    "import seaborn as sns\n",
    "sns.set()\n",
    "import matplotlib.pyplot as plt\n",
    "%matplotlib inline\n",
    "\n",
    "import seaborn as sns\n",
    "plt.style.use('fivethirtyeight')\n",
    "import warnings\n",
    "warnings.filterwarnings('ignore')\n",
    "\n",
    "\n",
    "import os\n",
    "import warnings\n",
    "warnings.simplefilter(action='ignore', category=FutureWarning)\n",
    "\n",
    "#to make the interactive maps\n",
    "import smopy\n",
    "import folium\n",
    "from folium.plugins import FastMarkerCluster\n",
    "import geopandas as gpd\n",
    "from branca.colormap import LinearColormap\n",
    "\n",
    "#to make the plotly graphs\n",
    "import plotly.graph_objs as go\n",
    "import plotly.plotly as py\n",
    "from plotly.offline import iplot, init_notebook_mode\n",
    "# import cufflinks\n",
    "# cufflinks.go_offline(connected=True)\n",
    "# init_notebook_mode(connected=True)\n",
    "\n",
    "# #to make the plotly graphs\n",
    "import plotly.graph_objs as go\n",
    "import plotly.plotly as py\n",
    "from plotly.offline import iplot, init_notebook_mode\n",
    "\n",
    "import cufflinks\n",
    "# cufflinks.go_offline()\n",
    "cufflinks.set_config_file(offline=False, world_readable=True)\n",
    "cufflinks.go_offline(connected=True)\n",
    "init_notebook_mode(connected=True)\n",
    "\n",
    "# import cufflinks as cf\n",
    "# cf.go_offline()\n",
    "# cf.set_config_file(offline=False, world_readable=True)\n",
    "\n",
    "#text mining\n",
    "import nltk\n",
    "from nltk.tokenize import word_tokenize\n",
    "from nltk.corpus import stopwords\n",
    "import re\n",
    "from sklearn.feature_extraction.text import TfidfVectorizer, CountVectorizer\n",
    "from wordcloud import WordCloud\n",
    "\n",
    "\n",
    "#color text\n",
    "\n",
    "from termcolor import colored\n",
    "\n",
    "import random"
   ]
  },
  {
   "cell_type": "markdown",
   "metadata": {
    "colab_type": "text",
    "id": "HG4O5a_pJ9sE"
   },
   "source": [
    "# ***NETTOYAGE FICHIER / LISTINGS - vérification des données***"
   ]
  },
  {
   "cell_type": "markdown",
   "metadata": {
    "colab_type": "text",
    "id": "k56e3QssJ9sF"
   },
   "source": [
    "**Importation des fichiers csv en une fois pour lister le travail à faire\n",
    "- avec un retrait de l'index dan le fichier listing afin d'éviter un problème de id ** "
   ]
  },
  {
   "cell_type": "code",
   "execution_count": null,
   "metadata": {
    "colab": {},
    "colab_type": "code",
    "id": "KStu55zIJ9sG"
   },
   "outputs": [],
   "source": [
    "#importation fichier csv et lecture\n",
    "listings = pd.read_csv(r\"/content/drive/My Drive/data/listings.csv\", index_col=None)\n",
    "\n",
    "listings_details = pd.read_csv(r\"/content/drive/My Drive/data/listings.csv.gz\", index_col= \"id\", low_memory=False)\n",
    "\n",
    "# parsage de la date sur fichiers : calendar, reviews et reviews_details\n",
    "\n",
    "calendar = pd.read_csv(r\"/content/drive/My Drive/data/calendar.csv.gz\", parse_dates=['date']) # index_col=['listing_id']\n",
    "\n",
    "#à faire un merge pour les 2 fichiers reviews et reviews_detail\n",
    "\n",
    "reviews = pd.read_csv(r\"/content/drive/My Drive/data/reviews.csv\", parse_dates=['date'])# index_col=['listing_id']\n",
    "reviews_details = pd.read_csv(r\"/content/drive/My Drive/data/reviews.csv.gz\", parse_dates=['date'])"
   ]
  },
  {
   "cell_type": "markdown",
   "metadata": {
    "colab_type": "text",
    "id": "sN3gbYc6J9sJ"
   },
   "source": [
    "Analyse des données des fichier (listings et listings_details) :  listings.csv et listings.csv.gz\n",
    "\n",
    "# Avec un merge pour ne récupérer que les colonnes utiles des 2 fichiers de listings et listings_details "
   ]
  },
  {
   "cell_type": "code",
   "execution_count": null,
   "metadata": {
    "colab": {
     "base_uri": "https://localhost:8080/",
     "height": 1000
    },
    "colab_type": "code",
    "id": "2jEK_4kKJ9sK",
    "outputId": "34485e95-b2a4-46ca-ac0c-2971f7630296"
   },
   "outputs": [],
   "source": [
    "#le merge des fichiers listings et listings_details pour ne récupérer que les colonnes utiles dans les 2 fihiers\n",
    "\n",
    "target_columns = [\"property_type\", \"accommodates\", \"first_review\", \"review_scores_value\", \"review_scores_cleanliness\", \"review_scores_location\", \"review_scores_accuracy\", \"review_scores_communication\", \"review_scores_checkin\", \"review_scores_rating\", \"maximum_nights\", \"listing_url\", \"host_is_superhost\", \"host_about\", \"host_response_time\", \"host_response_rate\", \"street\", \"weekly_price\", \"monthly_price\", \"market\"]\n",
    "\n",
    "listings = pd.merge(listings, listings_details[target_columns], on='id', how='left')\n",
    "\n",
    "#liste info\n",
    "listings.info()"
   ]
  },
  {
   "cell_type": "code",
   "execution_count": null,
   "metadata": {
    "colab": {
     "base_uri": "https://localhost:8080/",
     "height": 391
    },
    "colab_type": "code",
    "id": "gQZokhaOJ9sN",
    "outputId": "769033e5-dc2a-4e3b-b3bf-f56f39ed29cb"
   },
   "outputs": [],
   "source": [
    "listings.plot()"
   ]
  },
  {
   "cell_type": "code",
   "execution_count": null,
   "metadata": {
    "colab": {
     "base_uri": "https://localhost:8080/",
     "height": 513
    },
    "colab_type": "code",
    "id": "EKfn5TbCJ9sQ",
    "outputId": "54666448-7596-4d57-cc1d-0162f9dbe3ba"
   },
   "outputs": [],
   "source": [
    "#entête et pied (par 5)\n",
    "\n",
    "listings.head()"
   ]
  },
  {
   "cell_type": "code",
   "execution_count": null,
   "metadata": {
    "colab": {
     "base_uri": "https://localhost:8080/",
     "height": 34
    },
    "colab_type": "code",
    "id": "ltxVyKovJ9sT",
    "outputId": "8424aba7-41a7-48a1-e1c9-1d9de67b67bb"
   },
   "outputs": [],
   "source": [
    "#affiche le nb de colonnes et de lignes\n",
    "\n",
    "print(listings.shape) "
   ]
  },
  {
   "cell_type": "code",
   "execution_count": null,
   "metadata": {
    "colab": {
     "base_uri": "https://localhost:8080/",
     "height": 646
    },
    "colab_type": "code",
    "id": "Qgb4lQ3RJ9sV",
    "outputId": "9db24fc5-37e0-4adf-a62f-1922ed0fa0c3"
   },
   "outputs": [],
   "source": [
    "#vérification des types de fichiers\n",
    "\n",
    "listings.dtypes"
   ]
  },
  {
   "cell_type": "code",
   "execution_count": null,
   "metadata": {
    "colab": {
     "base_uri": "https://localhost:8080/",
     "height": 238
    },
    "colab_type": "code",
    "id": "ZHi7zx8-J9sZ",
    "outputId": "842fb885-4bc2-463a-dfef-23cdc1991a33"
   },
   "outputs": [],
   "source": [
    "listings.columns "
   ]
  },
  {
   "cell_type": "code",
   "execution_count": null,
   "metadata": {
    "colab": {
     "base_uri": "https://localhost:8080/",
     "height": 317
    },
    "colab_type": "code",
    "id": "HNAfge3IJ9sc",
    "outputId": "d8d9c9bf-c82a-4ca2-eafa-d5bcdd74dc5c"
   },
   "outputs": [],
   "source": [
    "listings.describe()"
   ]
  },
  {
   "cell_type": "markdown",
   "metadata": {
    "colab_type": "text",
    "id": "8uuQ5fH_J9se"
   },
   "source": [
    "#Nettoyage des valeurs aberrantes\n",
    "\n",
    "Clean Data\n",
    "\n",
    "Trop de col, stratégie : affichage par bloc de 5 cols"
   ]
  },
  {
   "cell_type": "code",
   "execution_count": null,
   "metadata": {
    "colab": {
     "base_uri": "https://localhost:8080/",
     "height": 513
    },
    "colab_type": "code",
    "id": "cGB_N8XoJ9sf",
    "outputId": "34b7f4ae-c8ba-4232-d254-cf140aafcfa2"
   },
   "outputs": [],
   "source": [
    "#affichage de 5 colonnes \n",
    "\n",
    "listings[['id', 'name', 'host_id', 'host_name', 'neighbourhood_group']]\n",
    "listings.head()"
   ]
  },
  {
   "cell_type": "code",
   "execution_count": null,
   "metadata": {
    "colab": {
     "base_uri": "https://localhost:8080/",
     "height": 374
    },
    "colab_type": "code",
    "id": "tti4g_N5J9si",
    "outputId": "fa739209-b91b-4797-d4bd-3c2214f959b8"
   },
   "outputs": [],
   "source": [
    "#vérification des colonnes vides\n",
    "# combien de données manquantes sur chaque colonne\n",
    "# quels sont les données manquantes sur telles ou telles colonnes\n",
    "\n",
    "#Trouver les na ds le df ?\n",
    "listings.isnull().sum()[listings.isnull().sum() > 0]\n",
    "# code trop long, c mieux ainsi :\n",
    "listings_cols_na = listings.isnull().sum()\n",
    "listings_cols_na = listings_cols_na[listings_cols_na > 0]\n",
    "listings_cols_na"
   ]
  },
  {
   "cell_type": "code",
   "execution_count": null,
   "metadata": {
    "colab": {
     "base_uri": "https://localhost:8080/",
     "height": 1000
    },
    "colab_type": "code",
    "id": "agWoOlx7J9sm",
    "outputId": "5386b2b1-ea41-4e42-d395-d38e412ba330"
   },
   "outputs": [],
   "source": [
    "#fonction qui permet de vérifier les colonnes qui ont des NaN, plus test de couleur\n",
    "\n",
    "def check_na(df):\n",
    "\tnb_lignes = df.shape[0]\n",
    "\tdf_cols_na = df.isnull().sum()\n",
    "\tdf_cols_na = df_cols_na[df_cols_na > 0]\n",
    "\n",
    "\tif not df_cols_na.empty :\n",
    "\t\tdf_na_sum = df_cols_na.sum()\n",
    "\t\tdf_na_percent = df_na_sum / nb_lignes\n",
    "\t\tprint('\\n\\n\\n', colored(\n",
    "\t\t\t\"*** Attention : Le df est touchée par {} de données manquantes ce qui correspond à {} % ***\" \\\n",
    "\t\t\t.format(df_na_sum, df_na_percent), 'red'), '\\n\\n\\n')\n",
    "\n",
    "\t\t# Je construit le df_check.na\n",
    "\t\tpercent_na = [(str(round((v/df.shape[0]) * 100,  2)) + ' %') for v in df_cols_na.values]\n",
    "\t\tdf_cols_na = pd.DataFrame({\n",
    "\t\t\t\"col\" : df_cols_na.index,\n",
    "\t\t\t\"count_na\" : df_cols_na.values,\n",
    "\t\t\t\"%_na\" : percent_na\n",
    "\t\t\t})\n",
    "\t\tprint('\\n\\n\\n', colored(df_cols_na, 'green'), '\\n\\n\\n')\n",
    "\t\treturn df_cols_na\n",
    "\telse:\n",
    "\t\tprint(colored(\"Djohra: Super il n'y a pas de données manquantes\", 'bleu'))\n",
    "\n",
    "\n",
    "\n",
    "check_na(listings)   "
   ]
  },
  {
   "cell_type": "code",
   "execution_count": null,
   "metadata": {
    "colab": {
     "base_uri": "https://localhost:8080/",
     "height": 1000
    },
    "colab_type": "code",
    "id": "4-uO1FPVJ9st",
    "outputId": "0c680a6c-77ee-4ae2-faa1-db5d48b67860"
   },
   "outputs": [],
   "source": [
    "#selection des colonnes qui ont 100% de NAN ou voir audesus de 80% et qui seront supprimées\n",
    "\n",
    "# random.random()\n",
    "\n",
    "def check_na(df):\n",
    "\tnb_lignes = df.shape[0]\n",
    "\tdf_cols_na = df.isnull().sum()\n",
    "\tdf_cols_na = df_cols_na[df_cols_na > 0]\n",
    "\n",
    "\tif not df_cols_na.empty :\n",
    "\t\tdf_na_sum = df_cols_na.sum()\n",
    "\t\tdf_na_percent = df_na_sum / nb_lignes\n",
    "\t\tprint('\\n\\n\\n',\n",
    "\t\t\t\"*** Attention : Le df est touchée par {} de données manquantes ce qui correspond à {} % ***\" \\\n",
    "\t\t\t.format(df_na_sum, round(df_na_percent)), '\\n\\n\\n')\n",
    "\n",
    "\t\t# Je construit le df_check.na      \n",
    "\t\tpercent_na = [round((v/df.shape[0]) * 100,  2) for v in df_cols_na.values]\n",
    "\t\tdf_cols_na = pd.DataFrame({\n",
    "\t\t\t\"col\" : df_cols_na.index,\n",
    "\t\t\t\"count_na\" : df_cols_na.values,\n",
    "\t\t\t\"%_na\" : percent_na\n",
    "\t\t\t})\n",
    "\t\tprint('\\n\\n\\n', df_cols_na, '\\n\\n\\n')\n",
    "\n",
    "\t\tif (percent_na >= 80) and (percent_na == 100):\n",
    "\t\t    print(\"à supprimmer\", colored(df_cols_na, 'red')) # Output Failed as Red Text\n",
    "\t\telif percent_na < 50:\n",
    "\t\t    print(\"valeurs passable\", colored(df_cols_na, 'green')) # Red Color\n",
    "\t\telse:\n",
    "\t\t    print(\"à garder\", colored(df_cols_na, 'bleu')) # Blue Color\n",
    "\t\treturn df_cols_na\n",
    "\telse:\n",
    "\t\tprint(\"Super il n'y a pas de données manquantes\")\n",
    "\n",
    "\n",
    "check_na(listings)"
   ]
  },
  {
   "cell_type": "code",
   "execution_count": null,
   "metadata": {
    "colab": {
     "base_uri": "https://localhost:8080/",
     "height": 136
    },
    "colab_type": "code",
    "id": "BHZxg4uGguhi",
    "outputId": "5b0c1914-55ff-47d5-da55-7b7480143a5d"
   },
   "outputs": [],
   "source": [
    "def check_na(df):\n",
    "\tnb_lignes = df.shape[0]\n",
    "\tdf_cols_na = df.isnull().sum()\n",
    "\tdf_cols_na = df_cols_na[df_cols_na > 0]\n",
    "\n",
    "\tif not df_cols_na.empty :\n",
    "\t\tdf_na_sum = df_cols_na.sum()\n",
    "\t\tdf_na_percent = df_na_sum / nb_lignes\n",
    "\t\tprint('\\n\\n\\n', colored(\n",
    "\t\t\t\"*** Attention : Le df est touchée par {} de données manquantes ce qui correspond à {} % ***\" \\\n",
    "\t\t\t.format(df_na_sum, round(df_na_percent, 2)), 'red'), '\\n\\n\\n')\n",
    " \n",
    "check_na(listings)"
   ]
  },
  {
   "cell_type": "code",
   "execution_count": null,
   "metadata": {
    "colab": {},
    "colab_type": "code",
    "id": "_0ro3fjbJ9s1"
   },
   "outputs": [],
   "source": [
    "#suprimer les colonnes qui ne servent à rien car soit 100% de NaN ou plus de 80%:  neighbourhood_group,  weekly_price, monthly_price \n",
    "\n",
    "listings = listings.drop(columns=['neighbourhood_group', 'weekly_price', 'monthly_price'])"
   ]
  },
  {
   "cell_type": "code",
   "execution_count": null,
   "metadata": {
    "colab": {
     "base_uri": "https://localhost:8080/",
     "height": 663
    },
    "colab_type": "code",
    "id": "oxIkqUWtJ9s4",
    "outputId": "31fa317b-8d3f-4cc0-c9a7-752b5ca24cbd"
   },
   "outputs": [],
   "source": [
    "listings.info()"
   ]
  },
  {
   "cell_type": "markdown",
   "metadata": {
    "colab_type": "text",
    "id": "NR8OGTUWJ9s8"
   },
   "source": [
    "Vérification et Nettoyage des $ de la colonne price"
   ]
  },
  {
   "cell_type": "code",
   "execution_count": null,
   "metadata": {
    "colab": {
     "base_uri": "https://localhost:8080/",
     "height": 119
    },
    "colab_type": "code",
    "id": "lFXJNuMHJ9s8",
    "outputId": "4c103b0f-5f3a-4a18-fa92-38069177a4be"
   },
   "outputs": [],
   "source": [
    "listings.price.value_counts().head()"
   ]
  },
  {
   "cell_type": "code",
   "execution_count": null,
   "metadata": {
    "colab": {
     "base_uri": "https://localhost:8080/",
     "height": 306
    },
    "colab_type": "code",
    "id": "wNGAq1duJ9tE",
    "outputId": "41ff4f45-03df-481c-d23b-2f6385491552"
   },
   "outputs": [],
   "source": [
    "#remplacer des $ pour price\n",
    "listings.price.str.replace('$','')"
   ]
  },
  {
   "cell_type": "code",
   "execution_count": null,
   "metadata": {
    "colab": {
     "base_uri": "https://localhost:8080/",
     "height": 317
    },
    "colab_type": "code",
    "id": "6kFpbfY2J9tH",
    "outputId": "5f1e872f-af5f-44bf-ef8e-821df9b6f534"
   },
   "outputs": [],
   "source": [
    "listings.describe()"
   ]
  },
  {
   "cell_type": "markdown",
   "metadata": {
    "colab_type": "text",
    "id": "muRPDe5YJ9tJ"
   },
   "source": [
    "# ***Vérification des doublons***"
   ]
  },
  {
   "cell_type": "code",
   "execution_count": null,
   "metadata": {
    "colab": {
     "base_uri": "https://localhost:8080/",
     "height": 34
    },
    "colab_type": "code",
    "id": "oAPj-hI0J9tK",
    "outputId": "d9e04199-9cf9-4539-cc2a-301d2b5095fa"
   },
   "outputs": [],
   "source": [
    "#elements dupliqués\n",
    "listings.shape"
   ]
  },
  {
   "cell_type": "code",
   "execution_count": null,
   "metadata": {
    "colab": {},
    "colab_type": "code",
    "id": "ax-KhXsaJ9tM"
   },
   "outputs": [],
   "source": [
    "#liste des duplicatats pour colonne room_type\n",
    "#listings.neighbourhood.duplicated().sum()"
   ]
  },
  {
   "cell_type": "code",
   "execution_count": null,
   "metadata": {
    "colab": {
     "base_uri": "https://localhost:8080/",
     "height": 34
    },
    "colab_type": "code",
    "id": "tKQeDZHwJ9tO",
    "outputId": "ee792758-e116-4d2f-b08a-c219d7ad02c1"
   },
   "outputs": [],
   "source": [
    "#liste des duplicatats total\n",
    "listings.duplicated().sum()"
   ]
  },
  {
   "cell_type": "code",
   "execution_count": null,
   "metadata": {
    "colab": {},
    "colab_type": "code",
    "id": "2Zk5KS33J9tQ"
   },
   "outputs": [],
   "source": [
    "# #suppression des duplicatat\n",
    "# listings.drop_duplicates(keep=False).shape"
   ]
  },
  {
   "cell_type": "code",
   "execution_count": null,
   "metadata": {
    "colab": {
     "base_uri": "https://localhost:8080/",
     "height": 289
    },
    "colab_type": "code",
    "id": "jVHRbY86J9tV",
    "outputId": "683ffdf6-615f-4099-9727-7d8d3e22f697"
   },
   "outputs": [],
   "source": [
    "#liste des quartiers\n",
    "listings['neighbourhood'].head(15)"
   ]
  },
  {
   "cell_type": "markdown",
   "metadata": {
    "colab_type": "text",
    "id": "tnjT-rjCJ9tY"
   },
   "source": [
    "# ***Prix moyen : quartiers avec moyenne de prix***"
   ]
  },
  {
   "cell_type": "code",
   "execution_count": null,
   "metadata": {
    "colab": {
     "base_uri": "https://localhost:8080/",
     "height": 391
    },
    "colab_type": "code",
    "id": "5umhJuo7J9ta",
    "outputId": "994725f1-3ace-497d-db59-b4a7e25426ab"
   },
   "outputs": [],
   "source": [
    "listings.groupby('neighbourhood')['price'].mean().sort_values(ascending=True)"
   ]
  },
  {
   "cell_type": "code",
   "execution_count": null,
   "metadata": {
    "colab": {
     "base_uri": "https://localhost:8080/",
     "height": 700
    },
    "colab_type": "code",
    "id": "LAKK_oeKJ9tc",
    "outputId": "a929ef3b-cb2f-4e70-e5ec-e64da43a0e99"
   },
   "outputs": [],
   "source": [
    "#même chose mais avec max, min, myenne et count\n",
    "\n",
    "#grouper des quartiers avec agg qui regroupe les methodes : count, min, max et moyenne de prix\n",
    "listings.groupby('neighbourhood').price.agg(['count', 'min', 'max', 'mean']) "
   ]
  },
  {
   "cell_type": "markdown",
   "metadata": {
    "colab_type": "text",
    "id": "A8uzMWR5SVfD"
   },
   "source": [
    "# *Prix quotidien moyen par quartier*"
   ]
  },
  {
   "cell_type": "code",
   "execution_count": null,
   "metadata": {
    "colab": {
     "base_uri": "https://localhost:8080/",
     "height": 550
    },
    "colab_type": "code",
    "id": "W9wO37P5J9te",
    "outputId": "e4c6cb60-5db1-4d3a-f9de-c224e0782487"
   },
   "outputs": [],
   "source": [
    "\n",
    "#le type d'hébergement le plus courant, à savoir l'hébergement pour 2 personnes. Comme prévu, l'hébergement dans le centre-ville est le plus cher.\n",
    "\n",
    "feq = listings[listings['accommodates']==2]\n",
    "feq = feq.groupby('neighbourhood')['price'].mean().sort_values(ascending=True)\n",
    "feq.plot.barh(figsize=(4, 8), color='b', width=1)\n",
    "plt.title(\"Prix moyen par jour pour un hébergement de 2 personnes\", fontsize=20)\n",
    "plt.xlabel('Prix journalier moyen (Euro)', fontsize=12)\n",
    "plt.ylabel(\"\")\n",
    "plt.show()"
   ]
  },
  {
   "cell_type": "code",
   "execution_count": null,
   "metadata": {
    "colab": {
     "base_uri": "https://localhost:8080/",
     "height": 264
    },
    "colab_type": "code",
    "id": "TGCV94ylpRCS",
    "outputId": "28527e03-3d65-46a5-87ca-e87c7e11002e"
   },
   "outputs": [],
   "source": [
    "plt.pie(listings.groupby('neighbourhood')['price'].mean().sort_values(ascending=True))\n",
    "plt.axis('equal')\n",
    "plt.legend('neighbourhood')\n",
    "plt.show()"
   ]
  },
  {
   "cell_type": "code",
   "execution_count": null,
   "metadata": {
    "colab": {
     "base_uri": "https://localhost:8080/",
     "height": 457
    },
    "colab_type": "code",
    "id": "Mv6wagfvJ9tg",
    "outputId": "4d1a56a3-9772-434f-91f2-f40f6bf20fea"
   },
   "outputs": [],
   "source": [
    "#on trace le graphe\n",
    "%matplotlib inline\n",
    "#tracer : quartiers avec moyenne de prix\n",
    "listings.groupby('neighbourhood').price.mean().plot(kind='bar') "
   ]
  },
  {
   "cell_type": "markdown",
   "metadata": {
    "colab_type": "text",
    "id": "pSxTGuawJ9ti"
   },
   "source": [
    "# ***Types de chambres et types de propriétés : ***"
   ]
  },
  {
   "cell_type": "code",
   "execution_count": null,
   "metadata": {
    "colab": {
     "base_uri": "https://localhost:8080/",
     "height": 136
    },
    "colab_type": "code",
    "id": "XL43lSz7J9tk",
    "outputId": "652a987b-a1d6-41c6-ef3c-c067eb66312b"
   },
   "outputs": [],
   "source": [
    "listings.property_type.unique()"
   ]
  },
  {
   "cell_type": "code",
   "execution_count": null,
   "metadata": {
    "colab": {
     "base_uri": "https://localhost:8080/",
     "height": 212
    },
    "colab_type": "code",
    "id": "yfUsx6yIJ9tm",
    "outputId": "af96f12f-bb95-492c-a88f-35f8e5d86dd2"
   },
   "outputs": [],
   "source": [
    "freq = listings['room_type']. value_counts().sort_values(ascending=True)\n",
    "freq.plot.barh(figsize=(12, 3), width=1, color = [\"g\",\"b\",\"r\"])\n",
    "plt.show()"
   ]
  },
  {
   "cell_type": "code",
   "execution_count": null,
   "metadata": {
    "colab": {
     "base_uri": "https://localhost:8080/",
     "height": 755
    },
    "colab_type": "code",
    "id": "iqa-OytzJ9to",
    "outputId": "6330e85b-d861-4534-f3ad-8d8fd3c1a4e6"
   },
   "outputs": [],
   "source": [
    "#prix moyen par quartier\n",
    "adam = gpd.read_file(r\"/content/drive/My Drive/data/neighbourhoods.geojson\")\n",
    "feq = pd.DataFrame([feq])\n",
    "feq = feq.transpose()\n",
    "adam = pd.merge(adam, feq, on='neighbourhood', how='left')\n",
    "adam.rename(columns={'price': 'average_price'}, inplace=True)\n",
    "adam.average_price = adam.average_price.round(decimals=0)\n",
    "\n",
    "map_dict = adam.set_index('neighbourhood')['average_price'].to_dict()\n",
    "color_scale = LinearColormap(['yellow','red'], vmin = min(map_dict.values()), vmax = max(map_dict.values()))\n",
    "\n",
    "def get_color(feature):\n",
    "    value = map_dict.get(feature['properties']['neighbourhood'])\n",
    "    return color_scale(value)\n",
    "\n",
    "map3 = folium.Map(location=[48.8534, 2.3488], zoom_start=11)\n",
    "folium.GeoJson(data=adam,\n",
    "               name='Paris',\n",
    "               tooltip=folium.features.GeoJsonTooltip(fields=['neighbourhood', 'average_price'],\n",
    "                                                      labels=True,\n",
    "                                                      sticky=False),\n",
    "               style_function= lambda feature: {\n",
    "                   'fillColor': get_color(feature),\n",
    "                   'color': 'black',\n",
    "                   'weight': 1,\n",
    "                   'dashArray': '5, 5',\n",
    "                   'fillOpacity':0.5\n",
    "                   },\n",
    "               highlight_function=lambda feature: {'weight':3, 'fillColor': get_color(feature), 'fillOpacity': 0.8}).add_to(map3)\n",
    "map3\n"
   ]
  },
  {
   "cell_type": "markdown",
   "metadata": {
    "colab_type": "text",
    "id": "60oQGitATZDy"
   },
   "source": [
    "# **affiche les types de propriétés comportant au moins 100 annonces. ici appartements**"
   ]
  },
  {
   "cell_type": "code",
   "execution_count": null,
   "metadata": {
    "colab": {
     "base_uri": "https://localhost:8080/",
     "height": 523
    },
    "colab_type": "code",
    "id": "vZWOgx8nJ9tr",
    "outputId": "1cbb0061-1f16-4dd5-cd94-7957dfa3a50a"
   },
   "outputs": [],
   "source": [
    "\n",
    "\n",
    "prop = listings.groupby(['property_type','room_type']).room_type.count()\n",
    "prop = prop.unstack()\n",
    "prop['total'] = prop.iloc[:,0:3].sum(axis = 1)\n",
    "prop = prop.sort_values(by=['total'])\n",
    "prop = prop[prop['total']>=100]\n",
    "prop = prop.drop(columns=['total'])\n",
    "\n",
    "prop.plot(kind='barh',stacked=True, color = [\"r\",\"b\",\"g\"],\n",
    "              linewidth = 1, grid=True, figsize=(15,8), width=1)\n",
    "plt.title('Types de biens à Paris', fontsize=18)\n",
    "plt.xlabel(\"Nombre d'annonces\", fontsize=14)\n",
    "plt.ylabel(\"\")\n",
    "plt.legend(loc = 4,prop = {\"size\" : 13})\n",
    "plt.rc('ytick', labelsize=13)\n",
    "plt.show()"
   ]
  },
  {
   "cell_type": "markdown",
   "metadata": {
    "colab_type": "text",
    "id": "rUmd9oDmTiRZ"
   },
   "source": [
    "# **Capacité d'accueil (nombre de personnes) la plupart des listes sont pour 2 personnes. Airbnb utilise un maximum de 16 invités par annonce.**"
   ]
  },
  {
   "cell_type": "markdown",
   "metadata": {
    "colab_type": "text",
    "id": "er8dNtDws4Ja"
   },
   "source": [
    "# 2- Prix moyens des hébergements par quartiers:"
   ]
  },
  {
   "cell_type": "code",
   "execution_count": null,
   "metadata": {
    "colab": {
     "base_uri": "https://localhost:8080/",
     "height": 523
    },
    "colab_type": "code",
    "id": "qGezqbu3J9tv",
    "outputId": "cddad0a3-530c-49b3-97a1-4063ddf1d3e4"
   },
   "outputs": [],
   "source": [
    "#\n",
    "feq=listings['accommodates'].value_counts().sort_index()\n",
    "feq.plot.bar(figsize=(10, 8), color='g', width=1, rot=0)\n",
    "plt.title(\"Capacité d'accueil (nombre de personnes)\", fontsize=20)\n",
    "plt.ylabel(\"Nombre d'annonces\", fontsize=12)\n",
    "plt.xlabel(\"Capacité d'accueil \", fontsize=12)\n",
    "plt.show()"
   ]
  },
  {
   "cell_type": "markdown",
   "metadata": {
    "colab_type": "text",
    "id": "4sHRF_19tFQX"
   },
   "source": [
    "# 3- Disponibilité des hébergements intéressants:"
   ]
  },
  {
   "cell_type": "code",
   "execution_count": null,
   "metadata": {
    "colab": {
     "base_uri": "https://localhost:8080/",
     "height": 753
    },
    "colab_type": "code",
    "id": "XE6OSAqvtIQW",
    "outputId": "517ea4c3-2861-4260-d287-45845975b872"
   },
   "outputs": [],
   "source": [
    "quartiers_choisis = [\"Hotel-de-Ville\", \"Luxambourg\", \"Palais-Bourbon\", \"Elysée\", \"Louvre\"]\n",
    "disponibilité_des_hebergements_pour_la_periode_convenue = [270, 77, 32, 11, 7]\n",
    "\n",
    "plt.figure(figsize=(15,12))\n",
    "plt.pie(disponibilité_des_hebergements_pour_la_periode_convenue)\n",
    "plt.axis('equal')\n",
    "\n",
    "plt.pie(disponibilité_des_hebergements_pour_la_periode_convenue, autopct='%0.1f%%')\n",
    "plt.title(\"Disponibilité des hébergements par quartier\", fontsize=20)\n",
    "plt.legend(quartiers_choisis, fontsize=12)\n",
    "\n",
    "plt.show()"
   ]
  },
  {
   "cell_type": "markdown",
   "metadata": {
    "colab_type": "text",
    "id": "CmrYQ0T6tYE3"
   },
   "source": [
    "# 4- Prix moyen des hébergements disponibles dans les quartiers choisis:"
   ]
  },
  {
   "cell_type": "code",
   "execution_count": null,
   "metadata": {
    "colab": {
     "base_uri": "https://localhost:8080/",
     "height": 340
    },
    "colab_type": "code",
    "id": "r-pl-WivtcUC",
    "outputId": "d5081359-7607-428b-dbce-264f2c7f93ad"
   },
   "outputs": [],
   "source": [
    "quartiers = [\"Hotel-de-Ville\", \"Luxambourg\", \"Palais-Bourbon\", \"Elysée\", \"Louvre\"]\n",
    "prix_hebergement_15_17Mars =  [91, 76, 56, 66, 52, 40]\n",
    "prix_moyen_annuel_hebergement = [65, 45, 36, 68, 38, 75]\n",
    "\n",
    "# Side-By-Side Bars pour comparer les prix des hébergements\n",
    "\n",
    "n = 1  # This is our first dataset (out of 2)\n",
    "t = 2 # Number of datasets\n",
    "d = 6 # Number of sets of bars\n",
    "w = 0.8 # Width of each bar\n",
    "store1_x = [t*element + w*n for element\n",
    "             in range(d)]\n",
    "plt.bar(store1_x,prix_hebergement_15_17Mars )\n",
    "\n",
    "n = 2  # This is our second dataset (out of 2)\n",
    "t = 2 # Number of datasets\n",
    "d = 6 # Number of sets of bars\n",
    "w = 0.8 # Width of each bar\n",
    "store2_x = [t*element + w*n for element\n",
    "             in range(d)]\n",
    "plt.bar(store2_x,prix_moyen_annuel_hebergement)\n",
    "plt.title(\"Prix moyen des hébergements disponibles dans les quartiers choisis\", fontsize=20)\n",
    "plt.legend(\"prix moyen annuel hebergement\", \"prix hebergements 15-17Mars\", fontsize=12)\n",
    "ax= plt.subplot()\n",
    "ax.set_xticklabels([\"Hotel-de-Ville\", \"Luxambourg\", \"Palais-Bourbon\", \"Elysée\", \"Louvre\"],\n",
    "rotation=30)\n",
    "plt.show()"
   ]
  },
  {
   "cell_type": "markdown",
   "metadata": {
    "colab_type": "text",
    "id": "SjFEqk0bTtHA"
   },
   "source": [
    "# **Trouver des hôtels illégaux :  Tout propriétaire qui loue plus de 40% de sa propriété en tant que chambres privées : cas extrêmes.**"
   ]
  },
  {
   "cell_type": "code",
   "execution_count": null,
   "metadata": {
    "colab": {
     "base_uri": "https://localhost:8080/",
     "height": 204
    },
    "colab_type": "code",
    "id": "0fZx5Y1AJ9tz",
    "outputId": "4393a558-09bd-4996-afd0-0a4339aca873"
   },
   "outputs": [],
   "source": [
    "\n",
    "private = listings[listings['room_type'] == \"Private room\"]\n",
    "host_private = private.groupby(['host_id', 'host_name', 'street']).size().reset_index(name='private_rooms').sort_values(by=['private_rooms'], ascending=False)\n",
    "host_private.head()"
   ]
  },
  {
   "cell_type": "markdown",
   "metadata": {
    "colab_type": "text",
    "id": "G_49KAqET4mO"
   },
   "source": [
    "# **cas extrême : xavier**"
   ]
  },
  {
   "cell_type": "code",
   "execution_count": null,
   "metadata": {
    "colab": {
     "base_uri": "https://localhost:8080/",
     "height": 1000
    },
    "colab_type": "code",
    "id": "OTNbYxh9J9t3",
    "outputId": "c19c5385-229d-4fb2-f003-e85cb48a395b"
   },
   "outputs": [],
   "source": [
    "\n",
    "xavier = private[private['host_id'] ==46443228]\n",
    "xavier = xavier[['name','host_id', 'host_name', 'latitude', 'longitude']]\n",
    "xavier.index.name = \"listing_id\"\n",
    "xavier"
   ]
  },
  {
   "cell_type": "markdown",
   "metadata": {
    "colab_type": "text",
    "id": "UtgLZv1tUCAw"
   },
   "source": [
    "# **On merge le fichier calendar**"
   ]
  },
  {
   "cell_type": "code",
   "execution_count": null,
   "metadata": {
    "colab": {
     "base_uri": "https://localhost:8080/",
     "height": 204
    },
    "colab_type": "code",
    "id": "X8DbGfmsJ9uG",
    "outputId": "6358a9f9-73c5-4d5d-cbdf-de56644dfa73"
   },
   "outputs": [],
   "source": [
    "#fichier merger : ici calendar et listings\n",
    "listings.index.name = \"listing_id\"\n",
    "calendar = pd.merge(calendar, listings[['accommodates']], on = \"listing_id\", how = \"left\")\n",
    "calendar.sample(5)"
   ]
  },
  {
   "cell_type": "code",
   "execution_count": null,
   "metadata": {
    "colab": {
     "base_uri": "https://localhost:8080/",
     "height": 374
    },
    "colab_type": "code",
    "id": "cqsTSNHqJ9uK",
    "outputId": "78ec3f32-4cb3-469a-db23-fe89444727ec"
   },
   "outputs": [],
   "source": [
    "#nettoyage des $ sur price\n",
    "listings.price.value_counts().head(20)"
   ]
  },
  {
   "cell_type": "code",
   "execution_count": null,
   "metadata": {
    "colab": {
     "base_uri": "https://localhost:8080/",
     "height": 34
    },
    "colab_type": "code",
    "id": "cu_8IaRq5ASb",
    "outputId": "096b4950-a91f-4656-afd7-c63ec09df950"
   },
   "outputs": [],
   "source": [
    "listings.shape"
   ]
  },
  {
   "cell_type": "code",
   "execution_count": null,
   "metadata": {
    "colab": {},
    "colab_type": "code",
    "id": "UyqCVtQpJ9uP"
   },
   "outputs": [],
   "source": [
    "#nettoyage des $ sur adjusted_price\n",
    "#listings.adjusted_price.value_counts()"
   ]
  },
  {
   "cell_type": "code",
   "execution_count": null,
   "metadata": {
    "colab": {},
    "colab_type": "code",
    "id": "f5tOX0uMJ9uW"
   },
   "outputs": [],
   "source": [
    "#$ à supprimer sur la colonne : price\n",
    "\n",
    "#remplacer des $ pour price\n",
    "#listings.price.str.replace('$', '')"
   ]
  },
  {
   "cell_type": "code",
   "execution_count": null,
   "metadata": {
    "colab": {},
    "colab_type": "code",
    "id": "ht5Ym-OTJ9uZ"
   },
   "outputs": [],
   "source": [
    "#$ à supprimer sur la colonne :  adjusted_price\n",
    "\n",
    "#remplacer des $ pour adjusted_price\n",
    "#listings.adjusted_price.str.replace('$', '')"
   ]
  },
  {
   "cell_type": "markdown",
   "metadata": {
    "colab_type": "text",
    "id": "q0Cg2AbaJ9uc"
   },
   "source": [
    "# persona : on va d'abord vérifier le contenu"
   ]
  },
  {
   "cell_type": "markdown",
   "metadata": {
    "colab_type": "text",
    "id": "gdf06XAfMhSQ"
   },
   "source": [
    "#vérifie le nombre d'annonce par quartier"
   ]
  },
  {
   "cell_type": "code",
   "execution_count": null,
   "metadata": {
    "colab": {
     "base_uri": "https://localhost:8080/",
     "height": 522
    },
    "colab_type": "code",
    "id": "H0A5AMx_J9ue",
    "outputId": "31fb9126-9117-4ee1-f192-aa99449d522a"
   },
   "outputs": [],
   "source": [
    "\n",
    "feq=listings['neighbourhood'].value_counts().sort_values(ascending=True)\n",
    "feq.plot.barh(figsize=(10, 8), color='r', width=1)\n",
    "plt.title(\"Nombre d'inscriptions par quartier\", fontsize=20)\n",
    "plt.xlabel(\"Nombre d'annonces\", fontsize=12)\n",
    "plt.show()"
   ]
  },
  {
   "cell_type": "markdown",
   "metadata": {
    "colab_type": "text",
    "id": "w5uOtJzyMu3C"
   },
   "source": [
    "#La sécurité du quartier"
   ]
  },
  {
   "cell_type": "code",
   "execution_count": null,
   "metadata": {
    "colab": {
     "base_uri": "https://localhost:8080/",
     "height": 1000
    },
    "colab_type": "code",
    "id": "UQoGb9UPJ9ui",
    "outputId": "81024252-8343-4c02-ce4e-91180c93d409"
   },
   "outputs": [],
   "source": [
    "\n",
    "\n",
    "listings10 = listings[listings['number_of_reviews']>=10]\n",
    "\n",
    "fig = plt.figure(figsize=(12,15))\n",
    "plt.rc('xtick', labelsize=16) \n",
    "plt.rc('ytick', labelsize=16)\n",
    "\n",
    "ax1 = fig.add_subplot(321)\n",
    "feq=listings10['review_scores_location'].value_counts().sort_index()\n",
    "ax1=feq.plot.bar(color='b', width=1, rot=0)\n",
    "#ax1.tick_params(axis = 'both', labelsize = 16)\n",
    "plt.title(\"Location\", fontsize=24)\n",
    "plt.ylabel(\"Nombre d'annonces\", fontsize=14)\n",
    "plt.xlabel('Note moyenne', fontsize=14)\n",
    "\n",
    "ax2 = fig.add_subplot(322)\n",
    "feq=listings10['review_scores_cleanliness'].value_counts().sort_index()\n",
    "ax2=feq.plot.bar(color='r', width=1, rot=0)\n",
    "plt.title(\"Propreté\", fontsize=24)\n",
    "plt.ylabel(\"Nombre d'annonces\", fontsize=14)\n",
    "plt.xlabel('Note moyenne', fontsize=14)\n",
    "\n",
    "ax3 = fig.add_subplot(323)\n",
    "feq=listings10['review_scores_value'].value_counts().sort_index()\n",
    "ax3=feq.plot.bar(color='g', width=1, rot=0)\n",
    "plt.title(\"Valeur\", fontsize=24)\n",
    "plt.ylabel(\"Nombre d'annonces\", fontsize=14)\n",
    "plt.xlabel('Note moyenne', fontsize=14)\n",
    "\n",
    "ax4 = fig.add_subplot(324)\n",
    "feq=listings10['review_scores_communication'].value_counts().sort_index()\n",
    "ax4=feq.plot.bar(color='b', width=1, rot=0)\n",
    "plt.title(\"Communication\", fontsize=24)\n",
    "plt.ylabel(\"Nombre d'annonces\", fontsize=14)\n",
    "plt.xlabel('Note moyenne', fontsize=14)\n",
    "\n",
    "ax5 = fig.add_subplot(325)\n",
    "feq=listings10['review_scores_checkin'].value_counts().sort_index()\n",
    "ax5=feq.plot.bar(color='r', width=1, rot=0)\n",
    "plt.title(\"Arrivée\", fontsize=24)\n",
    "plt.ylabel(\"Nombre d'annonces\", fontsize=14)\n",
    "plt.xlabel('Note moyenne', fontsize=14)\n",
    "\n",
    "ax6 = fig.add_subplot(326)\n",
    "feq=listings10['review_scores_accuracy'].value_counts().sort_index()\n",
    "ax6=feq.plot.bar(color='g', width=1, rot=0)\n",
    "plt.title(\"Précision\", fontsize=24)\n",
    "plt.ylabel(\"Nombre d'annonces\", fontsize=14)\n",
    "plt.xlabel('Note moyenne', fontsize=14)\n",
    "\n",
    "plt.tight_layout()\n",
    "plt.show()"
   ]
  },
  {
   "cell_type": "code",
   "execution_count": null,
   "metadata": {
    "colab": {},
    "colab_type": "code",
    "id": "DQZxCIy_J9uq"
   },
   "outputs": [],
   "source": [
    "# 3 Dans quel quartier veut-il se loger ?\n",
    "# Idéalement situé :  \n",
    "# - quartier hupé ?\n",
    "    \n",
    "# - quartier bon marché ?\n",
    "    \n",
    "    "
   ]
  },
  {
   "cell_type": "markdown",
   "metadata": {
    "colab_type": "text",
    "id": "qhonE-8NM9DG"
   },
   "source": [
    "#Préciser la recherche : le prix moyen des hébergements pour 2 personnes, disponibles à la date voulue et dans les quartiers choisis:"
   ]
  },
  {
   "cell_type": "markdown",
   "metadata": {
    "colab_type": "text",
    "id": "5A3CayS2q2HT"
   },
   "source": [
    "# **Les logements disponibles par quartier**"
   ]
  },
  {
   "cell_type": "code",
   "execution_count": null,
   "metadata": {
    "colab": {},
    "colab_type": "code",
    "id": "bgWSdD9NdjDx"
   },
   "outputs": [],
   "source": [
    "#listings.head()"
   ]
  },
  {
   "cell_type": "code",
   "execution_count": null,
   "metadata": {
    "colab": {
     "base_uri": "https://localhost:8080/",
     "height": 689
    },
    "colab_type": "code",
    "id": "4K9t9bb9J9uz",
    "outputId": "f703d7d7-3a9d-499d-d185-0e549279b006"
   },
   "outputs": [],
   "source": [
    "plt.figure(figsize=(40,10))\n",
    "sns.countplot(x = 'neighbourhood',\n",
    "              data = listings,\n",
    "              order = listings['neighbourhood'].value_counts().index)"
   ]
  },
  {
   "cell_type": "code",
   "execution_count": null,
   "metadata": {
    "colab": {},
    "colab_type": "code",
    "id": "D2JQHObgJ9u1"
   },
   "outputs": [],
   "source": [
    "\n",
    "# listings.minimum_nights.value_counts().sort_index().head(10)"
   ]
  },
  {
   "cell_type": "code",
   "execution_count": null,
   "metadata": {
    "colab": {},
    "colab_type": "code",
    "id": "K0y85Q8CJ9u_"
   },
   "outputs": [],
   "source": [
    "# listings[['price']].boxplot()"
   ]
  },
  {
   "cell_type": "markdown",
   "metadata": {
    "colab_type": "raw",
    "id": "t3c3IkuXJ9vH"
   },
   "source": [
    "6 qu'a t-il pensé de son logement ?"
   ]
  },
  {
   "cell_type": "markdown",
   "metadata": {
    "colab_type": "text",
    "id": "BKU66uHIwFLN"
   },
   "source": [
    "# Selection de l'hebergement en fonction des revuews positives :"
   ]
  },
  {
   "cell_type": "markdown",
   "metadata": {
    "colab_type": "text",
    "id": "RR-PhsxMVY59"
   },
   "source": [
    "# ***on merge des fichiers reviews-details et listings***"
   ]
  },
  {
   "cell_type": "code",
   "execution_count": null,
   "metadata": {
    "colab": {
     "base_uri": "https://localhost:8080/",
     "height": 235
    },
    "colab_type": "code",
    "id": "aRx3KwKgJ9vI",
    "outputId": "650d679f-4e6f-476a-ebea-a8566ce4069e"
   },
   "outputs": [],
   "source": [
    "\n",
    "\n",
    "reviews_details = pd.merge(reviews_details, listings[['host_id', 'host_name', 'name']], on = \"listing_id\", how = \"left\")\n",
    "reviews_details = reviews_details.set_index('id')\n",
    "reviews_details = reviews_details[['listing_id', 'name', 'host_id', 'host_name', 'date', 'reviewer_id', 'reviewer_name', 'comments']]\n",
    "reviews_details.head()"
   ]
  },
  {
   "cell_type": "markdown",
   "metadata": {
    "colab_type": "text",
    "id": "GnkQrKvNVi1E"
   },
   "source": [
    "# **les 5 hôtes avec le plus d'avis.**"
   ]
  },
  {
   "cell_type": "code",
   "execution_count": null,
   "metadata": {
    "colab": {
     "base_uri": "https://localhost:8080/",
     "height": 235
    },
    "colab_type": "code",
    "id": "6UTYBmEdJ9vL",
    "outputId": "10c63e28-5c55-4876-9c10-dd1a16d22aa3"
   },
   "outputs": [],
   "source": [
    "\n",
    "host_reviews = reviews_details.groupby(['host_id', 'host_name']).size().sort_values(ascending=False).to_frame(name = \"number_of_reviews\")\n",
    "host_reviews.head()"
   ]
  },
  {
   "cell_type": "code",
   "execution_count": null,
   "metadata": {
    "colab": {
     "base_uri": "https://localhost:8080/",
     "height": 136
    },
    "colab_type": "code",
    "id": "lXGP1LpvJ9vN",
    "outputId": "e4df3e01-a697-44dd-9239-cfdf1999a430"
   },
   "outputs": [],
   "source": [
    "reviews_details.comments.head()"
   ]
  },
  {
   "cell_type": "code",
   "execution_count": null,
   "metadata": {
    "colab": {
     "base_uri": "https://localhost:8080/",
     "height": 34
    },
    "colab_type": "code",
    "id": "faJGGs_3J9vR",
    "outputId": "90482b49-5094-432f-d729-57f8ba1ad4c1"
   },
   "outputs": [],
   "source": [
    "#enlever les commentaires vides (530)\n",
    "# reviews_details = reviews_details[reviews_details['comments'].notnull()]\n",
    "\n",
    "#enlever les chiffres\n",
    "# reviews_details['comments'] = reviews_details['comments'].str.replace('\\d+', '') \n",
    "\n",
    "#tout en minuscule\n",
    "# reviews_details['comments'] = reviews_details['comments'].str.lower()\n",
    "\n",
    "#enlever nouvelle ligne\n",
    "#  reviews_details['comments'] = reviews_details['comments'].str.replace('\\r\\n', \"\")\n",
    "\n",
    "#supprimer les mots vides (de la bibliothèque nltk)\n",
    "\n",
    "# stop_english = stopwords.words(\"english\")\n",
    "# reviews_details['comments'] = reviews_details['comments'].apply(lambda x: \" \".join([i for i in x.split() \n",
    "#                                                       if i not in (stop_english)]))\n",
    "# enlever la ponctuation\n",
    "# reviews_details['comments'] = reviews_details['comments'].str.replace('[^\\w\\s]',\" \")\n",
    "\n",
    "# remplacer x espaces par un espace\n",
    "# reviews_details['comments'] = reviews_details['comments'].str.replace('\\s+', ' ')\n",
    "\n",
    "reviews_details.comments.values[2] "
   ]
  },
  {
   "cell_type": "markdown",
   "metadata": {
    "colab_type": "text",
    "id": "zI3W4bv3wjz1"
   },
   "source": [
    "# Recouper les informations: trouver les meilleurs reviews concernant les hébergements disponibles dans les quartiers choisis"
   ]
  },
  {
   "cell_type": "markdown",
   "metadata": {
    "colab_type": "text",
    "id": "v0JrKmA6wy9q"
   },
   "source": [
    "\n",
    "## 1- Selectionner les commentaires positifs dans les quartiers choisis (\"Hotel-de-Ville\", \"Luxambourg\", \"Palais-Bourbon\", \"Elysée\", \"Louvre\"):"
   ]
  },
  {
   "cell_type": "code",
   "execution_count": null,
   "metadata": {
    "colab": {},
    "colab_type": "code",
    "id": "I9YRN7Zgw8Ps"
   },
   "outputs": [],
   "source": []
  },
  {
   "cell_type": "markdown",
   "metadata": {
    "colab_type": "text",
    "id": "8d8ymQd7w94I"
   },
   "source": [
    "## 2- Faire un Histogramme multiple pour comparer les prix des hebergements qui ont reçu les meilleurs commentaires:"
   ]
  },
  {
   "cell_type": "code",
   "execution_count": null,
   "metadata": {
    "colab": {
     "base_uri": "https://localhost:8080/",
     "height": 282
    },
    "colab_type": "code",
    "id": "Yz3R7fIBxGFU",
    "outputId": "ac47c7e8-63e4-40cc-fa2b-c0beaa713351"
   },
   "outputs": [],
   "source": [
    "# best_freviews= [5, 3, 5, 5, 4, 4, 5]\n",
    "# prix_hebergement_15_17Mars = ['249','379', '479', '465', '875']\n",
    "# #histogramme des commentaires positifs dans les quartiers desirés\n",
    "# plt.hist(best_freviews, bins=20, alpha=0.4,normed=True)\n",
    "# #histogramme des logements disponibles par prix et par quartiers désirés\n",
    "# plt.hist(prix_hebergement_15_17Mars, bins=20,alpha=0.4,normed=True)\n",
    "# plt.show()"
   ]
  },
  {
   "cell_type": "code",
   "execution_count": null,
   "metadata": {
    "colab": {
     "base_uri": "https://localhost:8080/",
     "height": 359
    },
    "colab_type": "code",
    "id": "eREz20VYJ9vZ",
    "outputId": "62ca58dc-6ef7-4a14-9d27-53f2c628e6bc"
   },
   "outputs": [],
   "source": [
    "#recherche des mots les plus utilisés à l'aide de la fonction CountVectorizer () de sklear\n",
    "texts = reviews_details.comments.tolist()\n",
    "\n",
    "vec = CountVectorizer().fit(texts)\n",
    "bag_of_words = vec.transform(texts)\n",
    "sum_words = bag_of_words.sum(axis=0)\n",
    "words_freq = [(word, sum_words[0, idx]) for word, idx in vec.vocabulary_.items()]\n",
    "\n",
    "cvec_df = pd.DataFrame.from_records(words_freq, columns= ['words', 'counts']).sort_values(by=\"counts\", ascending=False)\n",
    "cvec_df.head(10)"
   ]
  },
  {
   "cell_type": "code",
   "execution_count": null,
   "metadata": {
    "colab": {
     "base_uri": "https://localhost:8080/",
     "height": 631
    },
    "colab_type": "code",
    "id": "pb3IHe5YXnYu",
    "outputId": "ada34aaa-3e05-4207-e59b-3659a7adcfb7"
   },
   "outputs": [],
   "source": [
    "cvec_dict = dict(zip(cvec_df.words, cvec_df.counts))\n",
    "\n",
    "wordcloud = WordCloud(width=800, height=400)\n",
    "wordcloud.generate_from_frequencies(frequencies=cvec_dict)\n",
    "plt.figure( figsize=(20,10) )\n",
    "plt.imshow(wordcloud, interpolation=\"bilinear\")\n",
    "plt.axis(\"off\")\n",
    "plt.show()"
   ]
  },
  {
   "cell_type": "markdown",
   "metadata": {
    "colab_type": "text",
    "id": "ZJBM9JdVxckw"
   },
   "source": [
    "## 3- Choisir un logement offrant le meilleur rapport qualité-prix avec une surface de 50 m² minimum:\n",
    "### - parmi une liste des meilleurs offres d'appartement choisir ceux >= à 50 m²"
   ]
  },
  {
   "cell_type": "code",
   "execution_count": null,
   "metadata": {},
   "outputs": [],
   "source": []
  },
  {
   "cell_type": "markdown",
   "metadata": {
    "colab_type": "text",
    "id": "iPw71AZWx1uU"
   },
   "source": [
    "## 4- Enfin selectionner les 5 meilleures offres RBNB pour notre couple"
   ]
  },
  {
   "cell_type": "code",
   "execution_count": null,
   "metadata": {},
   "outputs": [],
   "source": []
  }
 ],
 "metadata": {
  "colab": {
   "collapsed_sections": [],
   "name": "projet_final_AIRBNB_Paris.ipynb",
   "provenance": [],
   "version": "0.3.2"
  },
  "kernelspec": {
   "display_name": "Python 3",
   "language": "python",
   "name": "python3"
  },
  "language_info": {
   "codemirror_mode": {
    "name": "ipython",
    "version": 3
   },
   "file_extension": ".py",
   "mimetype": "text/x-python",
   "name": "python",
   "nbconvert_exporter": "python",
   "pygments_lexer": "ipython3",
   "version": "3.7.4"
  }
 },
 "nbformat": 4,
 "nbformat_minor": 1
}
